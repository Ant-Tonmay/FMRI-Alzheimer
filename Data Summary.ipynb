{
 "cells": [
  {
   "cell_type": "code",
   "execution_count": 6,
   "id": "initial_id",
   "metadata": {
    "collapsed": true,
    "ExecuteTime": {
     "end_time": "2023-12-29T09:24:15.793477200Z",
     "start_time": "2023-12-29T09:24:15.779511600Z"
    }
   },
   "outputs": [],
   "source": [
    "import pandas as pd"
   ]
  },
  {
   "cell_type": "code",
   "execution_count": 7,
   "outputs": [],
   "source": [
    "df =pd.read_csv('Fmri_agniswar_5_30_2023.csv')"
   ],
   "metadata": {
    "collapsed": false,
    "ExecuteTime": {
     "end_time": "2023-12-29T09:24:15.823978400Z",
     "start_time": "2023-12-29T09:24:15.783503700Z"
    }
   },
   "id": "b555953307b110bb"
  },
  {
   "cell_type": "code",
   "execution_count": 8,
   "outputs": [
    {
     "data": {
      "text/plain": "(8806, 12)"
     },
     "execution_count": 8,
     "metadata": {},
     "output_type": "execute_result"
    }
   ],
   "source": [
    "df.shape\n"
   ],
   "metadata": {
    "collapsed": false,
    "ExecuteTime": {
     "end_time": "2023-12-29T09:24:15.824975900Z",
     "start_time": "2023-12-29T09:24:15.802739400Z"
    }
   },
   "id": "9838a8ec154ed633"
  },
  {
   "cell_type": "markdown",
   "source": [
    "Number of patient is 8806."
   ],
   "metadata": {
    "collapsed": false
   },
   "id": "b469588789b036a8"
  },
  {
   "cell_type": "markdown",
   "source": [
    "# Summary"
   ],
   "metadata": {
    "collapsed": false
   },
   "id": "47de52ca45bd602c"
  },
  {
   "cell_type": "code",
   "execution_count": 9,
   "outputs": [
    {
     "name": "stdout",
     "output_type": "stream",
     "text": [
      "     Group  TotalCount  MaleCount  FemaleCount  MinAge  MaxAge\n",
      "0       AD         895        522          373      55      91\n",
      "1       CN        2997       1322         1675      51      96\n",
      "2     EMCI        2214       1329          885      56      94\n",
      "3     LMCI        1352        653          696      55      92\n",
      "4      MCI         903        532          371      49      97\n",
      "5  Patient           9          5            4      63      80\n",
      "6      SMC         436        168          268      63      92\n"
     ]
    }
   ],
   "source": [
    "group_summary = df.groupby('Group').agg(\n",
    "    TotalCount=pd.NamedAgg(column='Image Data ID', aggfunc='count'),\n",
    "    MaleCount=pd.NamedAgg(column='Sex', aggfunc=lambda x: (x == 'M').sum()),\n",
    "    FemaleCount=pd.NamedAgg(column='Sex', aggfunc=lambda x: (x == 'F').sum()),\n",
    "    MinAge=pd.NamedAgg(column='Age', aggfunc='min'),\n",
    "    MaxAge=pd.NamedAgg(column='Age', aggfunc='max')\n",
    ").reset_index()\n",
    "\n",
    "print(group_summary)"
   ],
   "metadata": {
    "collapsed": false,
    "ExecuteTime": {
     "end_time": "2023-12-29T09:24:15.824975900Z",
     "start_time": "2023-12-29T09:24:15.807665200Z"
    }
   },
   "id": "8825c5dfd1143b07"
  },
  {
   "cell_type": "markdown",
   "source": [
    "**AD (Alzheimer's Disease) $\\equiv$** This category often refers to individuals who have been diagnosed with Alzheimer's disease, which is a progressive neurodegenerative disorder that primarily affects memory and cognitive function.  \n",
    "  \n",
    "**CN (Cognitively Normal)$\\equiv$** This category usually includes individuals who do not show significant cognitive impairment and are considered to have normal cognitive function for their age.  \n",
    "  \n",
    "**EMCI (Early Mild Cognitive Impairment)$\\equiv$** Individuals in this category may show subtle signs of cognitive decline that are greater than expected for their age but do not yet meet the criteria for a diagnosis of Alzheimer's disease.  \n",
    "  \n",
    "**LMCI (Late Mild Cognitive Impairment)$\\equiv$** Similar to EMCI, individuals in this category may have mild cognitive impairment, but the symptoms might be more pronounced or advanced.  \n",
    "  \n",
    "**MCI (Mild Cognitive Impairment)$\\equiv$** This is a general term for a condition characterized by noticeable cognitive decline that is greater than expected for a person's age but not severe enough to interfere significantly with daily life.  \n",
    "  \n",
    "**Patient$\\equiv$** This label might be used for individuals who are patients in a medical context but doesn't provide specific information about their cognitive status without additional context.  \n",
    "  \n",
    "**SMC (Subjective Memory Concerns):** This category may include individuals who report subjective concerns about their memory but may not show objective cognitive impairment on formal testing.  "
   ],
   "metadata": {
    "collapsed": false
   },
   "id": "32cec231cf5572e7"
  },
  {
   "cell_type": "code",
   "execution_count": 11,
   "outputs": [
    {
     "data": {
      "text/plain": "     Image Data ID     Subject Group Sex  Age Visit Modality  \\\n0         I1600185  941_S_7085   MCI   F   70    sc     fMRI   \n1         I1588336  941_S_7074    CN   M   71    sc     fMRI   \n2         I1553010  941_S_7051    CN   M   64    sc     fMRI   \n3         I1553936  941_S_7046    CN   F   71    sc     fMRI   \n4         I1544472  941_S_7041   MCI   F   73    sc     fMRI   \n...            ...         ...   ...  ..  ...   ...      ...   \n8801       I863058  002_S_0413    CN   F   87  init     fMRI   \n8802       I371994  002_S_0413    CN   F   83   v21     fMRI   \n8803       I569636  002_S_0413    CN   F   85   v41     fMRI   \n8804       I238623  002_S_0295    CN   M   90   v06     fMRI   \n8805       I303069  002_S_0295    CN   M   91   v11     fMRI   \n\n                      Description      Type   Acq Date Format  Downloaded  \n0     Axial MB rsfMRI (Eyes Open)  Original  7/01/2022    DCM         NaN  \n1     Axial MB rsfMRI (Eyes Open)  Original  5/03/2022    DCM         NaN  \n2     Axial MB rsfMRI (Eyes Open)  Original  3/07/2022    DCM         NaN  \n3     Axial MB rsfMRI (Eyes Open)  Original  3/08/2022    DCM         NaN  \n4     Axial MB rsfMRI (Eyes Open)  Original  2/14/2022    DCM         NaN  \n...                           ...       ...        ...    ...         ...  \n8801     Axial rsfMRI (Eyes Open)  Original  6/21/2017    DCM         NaN  \n8802           Resting State fMRI  Original  5/10/2013    DCM         NaN  \n8803  Extended Resting State fMRI  Original  6/09/2015    DCM         NaN  \n8804           Resting State fMRI  Original  6/02/2011    DCM         NaN  \n8805           Resting State fMRI  Original  5/10/2012    DCM         NaN  \n\n[8806 rows x 12 columns]",
      "text/html": "<div>\n<style scoped>\n    .dataframe tbody tr th:only-of-type {\n        vertical-align: middle;\n    }\n\n    .dataframe tbody tr th {\n        vertical-align: top;\n    }\n\n    .dataframe thead th {\n        text-align: right;\n    }\n</style>\n<table border=\"1\" class=\"dataframe\">\n  <thead>\n    <tr style=\"text-align: right;\">\n      <th></th>\n      <th>Image Data ID</th>\n      <th>Subject</th>\n      <th>Group</th>\n      <th>Sex</th>\n      <th>Age</th>\n      <th>Visit</th>\n      <th>Modality</th>\n      <th>Description</th>\n      <th>Type</th>\n      <th>Acq Date</th>\n      <th>Format</th>\n      <th>Downloaded</th>\n    </tr>\n  </thead>\n  <tbody>\n    <tr>\n      <th>0</th>\n      <td>I1600185</td>\n      <td>941_S_7085</td>\n      <td>MCI</td>\n      <td>F</td>\n      <td>70</td>\n      <td>sc</td>\n      <td>fMRI</td>\n      <td>Axial MB rsfMRI (Eyes Open)</td>\n      <td>Original</td>\n      <td>7/01/2022</td>\n      <td>DCM</td>\n      <td>NaN</td>\n    </tr>\n    <tr>\n      <th>1</th>\n      <td>I1588336</td>\n      <td>941_S_7074</td>\n      <td>CN</td>\n      <td>M</td>\n      <td>71</td>\n      <td>sc</td>\n      <td>fMRI</td>\n      <td>Axial MB rsfMRI (Eyes Open)</td>\n      <td>Original</td>\n      <td>5/03/2022</td>\n      <td>DCM</td>\n      <td>NaN</td>\n    </tr>\n    <tr>\n      <th>2</th>\n      <td>I1553010</td>\n      <td>941_S_7051</td>\n      <td>CN</td>\n      <td>M</td>\n      <td>64</td>\n      <td>sc</td>\n      <td>fMRI</td>\n      <td>Axial MB rsfMRI (Eyes Open)</td>\n      <td>Original</td>\n      <td>3/07/2022</td>\n      <td>DCM</td>\n      <td>NaN</td>\n    </tr>\n    <tr>\n      <th>3</th>\n      <td>I1553936</td>\n      <td>941_S_7046</td>\n      <td>CN</td>\n      <td>F</td>\n      <td>71</td>\n      <td>sc</td>\n      <td>fMRI</td>\n      <td>Axial MB rsfMRI (Eyes Open)</td>\n      <td>Original</td>\n      <td>3/08/2022</td>\n      <td>DCM</td>\n      <td>NaN</td>\n    </tr>\n    <tr>\n      <th>4</th>\n      <td>I1544472</td>\n      <td>941_S_7041</td>\n      <td>MCI</td>\n      <td>F</td>\n      <td>73</td>\n      <td>sc</td>\n      <td>fMRI</td>\n      <td>Axial MB rsfMRI (Eyes Open)</td>\n      <td>Original</td>\n      <td>2/14/2022</td>\n      <td>DCM</td>\n      <td>NaN</td>\n    </tr>\n    <tr>\n      <th>...</th>\n      <td>...</td>\n      <td>...</td>\n      <td>...</td>\n      <td>...</td>\n      <td>...</td>\n      <td>...</td>\n      <td>...</td>\n      <td>...</td>\n      <td>...</td>\n      <td>...</td>\n      <td>...</td>\n      <td>...</td>\n    </tr>\n    <tr>\n      <th>8801</th>\n      <td>I863058</td>\n      <td>002_S_0413</td>\n      <td>CN</td>\n      <td>F</td>\n      <td>87</td>\n      <td>init</td>\n      <td>fMRI</td>\n      <td>Axial rsfMRI (Eyes Open)</td>\n      <td>Original</td>\n      <td>6/21/2017</td>\n      <td>DCM</td>\n      <td>NaN</td>\n    </tr>\n    <tr>\n      <th>8802</th>\n      <td>I371994</td>\n      <td>002_S_0413</td>\n      <td>CN</td>\n      <td>F</td>\n      <td>83</td>\n      <td>v21</td>\n      <td>fMRI</td>\n      <td>Resting State fMRI</td>\n      <td>Original</td>\n      <td>5/10/2013</td>\n      <td>DCM</td>\n      <td>NaN</td>\n    </tr>\n    <tr>\n      <th>8803</th>\n      <td>I569636</td>\n      <td>002_S_0413</td>\n      <td>CN</td>\n      <td>F</td>\n      <td>85</td>\n      <td>v41</td>\n      <td>fMRI</td>\n      <td>Extended Resting State fMRI</td>\n      <td>Original</td>\n      <td>6/09/2015</td>\n      <td>DCM</td>\n      <td>NaN</td>\n    </tr>\n    <tr>\n      <th>8804</th>\n      <td>I238623</td>\n      <td>002_S_0295</td>\n      <td>CN</td>\n      <td>M</td>\n      <td>90</td>\n      <td>v06</td>\n      <td>fMRI</td>\n      <td>Resting State fMRI</td>\n      <td>Original</td>\n      <td>6/02/2011</td>\n      <td>DCM</td>\n      <td>NaN</td>\n    </tr>\n    <tr>\n      <th>8805</th>\n      <td>I303069</td>\n      <td>002_S_0295</td>\n      <td>CN</td>\n      <td>M</td>\n      <td>91</td>\n      <td>v11</td>\n      <td>fMRI</td>\n      <td>Resting State fMRI</td>\n      <td>Original</td>\n      <td>5/10/2012</td>\n      <td>DCM</td>\n      <td>NaN</td>\n    </tr>\n  </tbody>\n</table>\n<p>8806 rows × 12 columns</p>\n</div>"
     },
     "execution_count": 11,
     "metadata": {},
     "output_type": "execute_result"
    }
   ],
   "source": [
    "df"
   ],
   "metadata": {
    "collapsed": false,
    "ExecuteTime": {
     "end_time": "2023-12-29T09:43:02.602284900Z",
     "start_time": "2023-12-29T09:43:02.585572900Z"
    }
   },
   "id": "f66921ac2a1cba80"
  },
  {
   "cell_type": "code",
   "execution_count": 15,
   "outputs": [
    {
     "data": {
      "text/plain": "array(['Axial MB rsfMRI (Eyes Open)', 'Axial fcMRI (EYES OPEN)',\n       'MoCoSeries', 'Axial rsfMRI (Eyes Open)', 'relCBF',\n       'Perfusion_Weighted', 'Axial MB DTI_TENSOR_B0',\n       'Axial 3D PASL (Eyes Open)', 'Axial MB DTI', 'Axial MB DTI_ADC',\n       'Axial MB DTI_TRACEW', 'Axial MB DTI_FA',\n       'Axial rsfMRI (EYES OPEN)', 'Resting State fMRI',\n       'Extended Resting State fMRI', 'Axial fcMRI (Eyes Open)',\n       'Axial fcMRI', 'Axial 2D PASL', 'SOURCE - Axial 2D PASL',\n       'Axial fcMRI (EYES OPEN)_REPEAT', 'AXIAL RS fMRI (EYES OPEN)',\n       'WIP SOURCE - Axial 3D pCASL (Eyes Open)',\n       'Extended AXIAL rsfMRI EYES OPEN', 'Axial MB rsfMRI AP',\n       'Axial MB rsfMRI (Eyes Open) REPEAT',\n       'Axial rsfMRI (Eyes Open) -phase P to A',\n       'Axial MB rsfMRI (Eyes Open)   straight no angle',\n       'Axial rsfMRI (Eyes Open) Phase Direction P>A',\n       'epi_2s_resting_state', 'Axial fcMRI 0 angle (EYES OPEN)',\n       'Axial RESTING fcMRI (EYES OPEN)', 'Axial_rsFMRI_Eyes_Open',\n       'Axial rsfMRI (Eyes Open) 10 min :-PJ',\n       'Extended Resting State fMRI CLEAR',\n       'Axial - Advanced fMRI_64 Channel'], dtype=object)"
     },
     "execution_count": 15,
     "metadata": {},
     "output_type": "execute_result"
    }
   ],
   "source": [
    "df['Description'].unique()"
   ],
   "metadata": {
    "collapsed": false,
    "ExecuteTime": {
     "end_time": "2023-12-29T09:45:22.117563800Z",
     "start_time": "2023-12-29T09:45:22.106080200Z"
    }
   },
   "id": "16e6ea2d09f97731"
  },
  {
   "cell_type": "code",
   "execution_count": null,
   "outputs": [],
   "source": [],
   "metadata": {
    "collapsed": false
   },
   "id": "524b0d0574ef225c"
  }
 ],
 "metadata": {
  "kernelspec": {
   "display_name": "Python 3",
   "language": "python",
   "name": "python3"
  },
  "language_info": {
   "codemirror_mode": {
    "name": "ipython",
    "version": 2
   },
   "file_extension": ".py",
   "mimetype": "text/x-python",
   "name": "python",
   "nbconvert_exporter": "python",
   "pygments_lexer": "ipython2",
   "version": "2.7.6"
  }
 },
 "nbformat": 4,
 "nbformat_minor": 5
}
